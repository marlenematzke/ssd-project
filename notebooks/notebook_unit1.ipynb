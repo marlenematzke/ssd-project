{
 "cells": [
  {
   "cell_type": "markdown",
   "metadata": {},
   "source": [
    "**Sustainable Software Development, block course, March 2021**  \n",
    "*Scientific Software Center, Institute for Scientific Computing, Dr. Inga Ulusoy*\n",
    "\n",
    "# Analysis of the data\n",
    "\n",
    "Imagine you perform a \"measurement\" of some type and obtain \"scientific data\". You know what your data represents, but you have only a vague idea how different features in the data are connected, and what information you can extract from the data.\n",
    "\n",
    "You would start first with going through the data, making sure your data set is complete and that the result is reasonable. Imagine this already happened.\n",
    "\n",
    "In the next step, you would inspect your data more closely and try to identify structures. That is the step that we are focusing on in this unit.\n",
    "\n",
    "In the `data` folder, you will find several data files (`*.t` and `*.dat`). These are data files generated through some \"new approach\" that hasn't been used in your lab before. No previous analysis software exists, and you are going to establish a protocol for this \"new approach\" and \"publish your results\".\n",
    "\n",
    "The data can be grouped into two categories: \n",
    "1. data to be analyzed using statistical methods;\n",
    "2. data to be analyzed using numerical methods.\n",
    "\n",
    "In your hypothetical lab, you are an \"expert\" in one particular \"method\", and your co-worker is an \"expert\" in the other. Combined these two methods will lead to much more impactful results than if only one of you analyzed the data. Now, the task in this course is to be solved collaboratively with your team member working on one of the analysis approaches, and you working on the other. You will both implement functionality into the same piece of \"software\", but do so collaboratively through git.\n",
    "\n",
    "As you do not know yet which analysis is most meaningful for your data, and how to implement it, you will start with a jupyter notebook. You and your team member will work on the same notebook that will be part of a github repository for your project. This is the task for today. Discuss with your team members who will work on the statistical and who on the numerical analysis."
   ]
  },
  {
   "cell_type": "markdown",
   "metadata": {},
   "source": [
    "## Step 1\n",
    "\n",
    "Accept the assignment through GitHub classroom."
   ]
  },
  {
   "cell_type": "markdown",
   "metadata": {},
   "source": [
    "## Step 2\n",
    "\n",
    "Clone the repository to your local machine."
   ]
  },
  {
   "cell_type": "markdown",
   "metadata": {},
   "source": [
    "## Step 3\n",
    "\n",
    "Start working on task 1 for your analysis approach. "
   ]
  },
  {
   "cell_type": "markdown",
   "metadata": {},
   "source": [
    "## Step 4\n",
    "\n",
    "Create your own branch of the repository and commit your changes to your branch; push to the remote repository."
   ]
  },
  {
   "cell_type": "markdown",
   "metadata": {},
   "source": [
    "## Step 5\n",
    "\n",
    "Open a `pull request` so your team member can review your implementation. Likewise, your team member will ask you to review theirs."
   ]
  },
  {
   "cell_type": "markdown",
   "metadata": {},
   "source": [
    "## Step 6\n",
    "\n",
    "Merge the changes in your branch into `main`. Resolve conflicts."
   ]
  },
  {
   "cell_type": "markdown",
   "metadata": {},
   "source": [
    "## Step 7\n",
    "\n",
    "Repeat working on task; committing and pushing to your previously generated branch or a new branch; open a pull request; merge with main; until you have finished all the tasks in your analysis approach. Delete obsolete branches."
   ]
  },
  {
   "cell_type": "markdown",
   "metadata": {},
   "source": [
    "# Start of the analysis notebook\n",
    "\n",
    "**Author : Marlene Matzke and Farroch Vahidi**  \n",
    "*Date : Jan 22 2024*  \n",
    "*Affiliation : Heidelberg University*  \n",
    "\n",
    "Place the required modules in the top, followed by required constants and global functions."
   ]
  },
  {
   "cell_type": "code",
   "execution_count": 3,
   "metadata": {},
   "outputs": [],
   "source": [
    "# required modules\n",
    "import pandas as pd\n",
    "import matplotlib.pyplot as plt\n",
    "import numpy as np\n",
    "import seaborn as sn\n",
    "from pathlib import Path\n",
    "\n",
    "# if black should ignore a line, add '# noqa' to end of line"
   ]
  },
  {
   "cell_type": "code",
   "execution_count": 4,
   "metadata": {},
   "outputs": [],
   "source": [
    "# constants and global functions/variables\n",
    "data_file_path = Path(\"../data\")"
   ]
  },
  {
   "cell_type": "code",
   "execution_count": 5,
   "metadata": {},
   "outputs": [],
   "source": [
    "# reading of the data files\n",
    "def read_pandas(path, name):\n",
    "    file = path / name\n",
    "    return pd.read_csv(file, sep=\"\\s+\") # noqa\n",
    "\n",
    "\n",
    "def read_numpy(path, name, skip=1):\n",
    "    file = path / name\n",
    "    return np.loadtxt(file, skiprows=skip)"
   ]
  },
  {
   "cell_type": "markdown",
   "metadata": {},
   "source": [
    "# Statistical analysis\n",
    "\n",
    "Find correlations in the data sets. Analyse the data statistically and plot your results.  \n",
    "\n",
    "Here we would want to do everything with pandas and leave the data in a dataframe. The files that are relevant to you are `expect.t`, `npop.t` and `table.dat`."
   ]
  },
  {
   "cell_type": "markdown",
   "metadata": {},
   "source": [
    "### Task 1: Read in expec.t and plot relevant data"
   ]
  },
  {
   "cell_type": "code",
   "execution_count": 7,
   "metadata": {},
   "outputs": [
    {
     "data": {
      "text/html": [
       "<div>\n",
       "<style scoped>\n",
       "    .dataframe tbody tr th:only-of-type {\n",
       "        vertical-align: middle;\n",
       "    }\n",
       "\n",
       "    .dataframe tbody tr th {\n",
       "        vertical-align: top;\n",
       "    }\n",
       "\n",
       "    .dataframe thead th {\n",
       "        text-align: right;\n",
       "    }\n",
       "</style>\n",
       "<table border=\"1\" class=\"dataframe\">\n",
       "  <thead>\n",
       "    <tr style=\"text-align: right;\">\n",
       "      <th></th>\n",
       "      <th>time</th>\n",
       "      <th>norm</th>\n",
       "      <th>&lt;x&gt;</th>\n",
       "      <th>&lt;y&gt;</th>\n",
       "      <th>&lt;z&gt;</th>\n",
       "      <th>&lt;H&gt;</th>\n",
       "    </tr>\n",
       "  </thead>\n",
       "  <tbody>\n",
       "    <tr>\n",
       "      <th>0</th>\n",
       "      <td>0.0</td>\n",
       "      <td>1.0</td>\n",
       "      <td>0.0</td>\n",
       "      <td>0.0</td>\n",
       "      <td>-2.19632</td>\n",
       "      <td>0.0</td>\n",
       "    </tr>\n",
       "    <tr>\n",
       "      <th>1</th>\n",
       "      <td>0.1</td>\n",
       "      <td>1.0</td>\n",
       "      <td>0.0</td>\n",
       "      <td>0.0</td>\n",
       "      <td>-2.19632</td>\n",
       "      <td>0.0</td>\n",
       "    </tr>\n",
       "    <tr>\n",
       "      <th>2</th>\n",
       "      <td>0.2</td>\n",
       "      <td>1.0</td>\n",
       "      <td>-0.0</td>\n",
       "      <td>0.0</td>\n",
       "      <td>-2.19632</td>\n",
       "      <td>0.0</td>\n",
       "    </tr>\n",
       "    <tr>\n",
       "      <th>3</th>\n",
       "      <td>0.3</td>\n",
       "      <td>1.0</td>\n",
       "      <td>-0.0</td>\n",
       "      <td>0.0</td>\n",
       "      <td>-2.19632</td>\n",
       "      <td>0.0</td>\n",
       "    </tr>\n",
       "    <tr>\n",
       "      <th>4</th>\n",
       "      <td>0.4</td>\n",
       "      <td>1.0</td>\n",
       "      <td>-0.0</td>\n",
       "      <td>0.0</td>\n",
       "      <td>-2.19632</td>\n",
       "      <td>0.0</td>\n",
       "    </tr>\n",
       "  </tbody>\n",
       "</table>\n",
       "</div>"
      ],
      "text/plain": [
       "   time  norm  <x>  <y>      <z>  <H>\n",
       "0   0.0   1.0  0.0  0.0 -2.19632  0.0\n",
       "1   0.1   1.0  0.0  0.0 -2.19632  0.0\n",
       "2   0.2   1.0 -0.0  0.0 -2.19632  0.0\n",
       "3   0.3   1.0 -0.0  0.0 -2.19632  0.0\n",
       "4   0.4   1.0 -0.0  0.0 -2.19632  0.0"
      ]
     },
     "execution_count": 7,
     "metadata": {},
     "output_type": "execute_result"
    }
   ],
   "source": [
    "# read and plot expec.t\n",
    "df = pd.read_csv('../data/expec.t', sep=\"\\s+\")\n",
    "df.head()\n",
    "\n",
    "\n",
    "# read and plot expec.t (as specified in solution)\n",
    "data_expec = read_pandas(data_file_path, \"expec.t\")\n",
    "data_expec.head()"
   ]
  },
  {
   "cell_type": "code",
   "execution_count": 8,
   "metadata": {},
   "outputs": [
    {
     "data": {
      "text/plain": [
       "<Axes: >"
      ]
     },
     "execution_count": 8,
     "metadata": {},
     "output_type": "execute_result"
    },
    {
     "data": {
      "image/png": "[encoded data removed]",
      "text/plain": [
       "<Figure size 640x480 with 1 Axes>"
      ]
     },
     "metadata": {},
     "output_type": "display_data"
    }
   ],
   "source": [
    "\n",
    "\n",
    "# plots all the data\n",
    "df.plot()"
   ]
  },
  {
   "cell_type": "code",
   "execution_count": 9,
   "metadata": {},
   "outputs": [
    {
     "data": {
      "image/png": "[encoded data removed]",
      "text/plain": [
       "<Figure size 640x480 with 1 Axes>"
      ]
     },
     "metadata": {},
     "output_type": "display_data"
    },
    {
     "data": {
      "text/plain": [
       "<Axes: xlabel='time'>"
      ]
     },
     "execution_count": 9,
     "metadata": {},
     "output_type": "execute_result"
    },
    {
     "data": {
      "image/png": "[encoded data removed]",
      "text/plain": [
       "<Figure size 640x480 with 1 Axes>"
      ]
     },
     "metadata": {},
     "output_type": "display_data"
    }
   ],
   "source": [
    "# plots the time-<z> scatter diagram\n",
    "df.plot(kind = 'scatter', x = 'time', y = '<z>')\n",
    "plt.show()\n",
    "\n",
    "# plots the time-<z> scatter diagram (as specified in solution)\n",
    "data_expec.plot(x=\"time\", y=\"<z>\")"
   ]
  },
  {
   "cell_type": "markdown",
   "metadata": {},
   "source": [
    "We can discard the entries norm, \\<x>, and \\<y> as these are mostly constant."
   ]
  },
  {
   "cell_type": "code",
   "execution_count": null,
   "metadata": {},
   "outputs": [],
   "source": [
    "# prints the variances of all columns\n",
    "timeVar = df['time'].var()\n",
    "normVar = df['norm'].var()\n",
    "xVar = df['<x>'].var()\n",
    "yVar = df['<y>'].var()\n",
    "zVar = df['<z>'].var()\n",
    "hVar = df['<H>'].var()\n",
    "print(f'Variances:\\ntime: {timeVar}\\nnorm: {normVar}\\nx: {xVar}\\ny: {yVar}\\nz: {zVar}\\nH: {hVar}')"
   ]
  },
  {
   "cell_type": "code",
   "execution_count": null,
   "metadata": {},
   "outputs": [],
   "source": [
    "def discardColumns(df: pd.DataFrame, threshold):\n",
    "\n",
    "    colsToRemove = []\n",
    "    \n",
    "    for col in df.columns:\n",
    "        if not df[col].var() > threshold:\n",
    "            colsToRemove.append(col)\n",
    "\n",
    "    print(len(colsToRemove))\n",
    "    \n",
    "    return df.drop(columns=colsToRemove)"
   ]
  },
  {
   "cell_type": "code",
   "execution_count": null,
   "metadata": {},
   "outputs": [],
   "source": [
    "# eliminate columns based on the variance: if the variance of the values\n",
    "# in a column is below a given threshold, that column is discarded\n",
    "discardedDF = discardColumns(df, 0.1)\n",
    "discardedDF.head()\n",
    "\n"
   ]
  },
  {
   "cell_type": "code",
   "execution_count": 10,
   "metadata": {},
   "outputs": [],
   "source": [
    "# As specified in solution\n",
    "data_expec.var()\n",
    "\n",
    "thresh = 1.0e-3\n",
    "\n",
    "# df_expec.drop(df_expec.var()[df_expec.var()<threshv].index.values, axis=1)\n",
    "# print(df_expec.var()<threshv) # this will return columns with variance below the threshold\n",
    "# df_expec.var()[df_expec.var()<threshv].index # this will return the index of those columns\n",
    "# df_expec.var()[df_expec.var()<threshv].index.values # this will return the index of those columns in an array\n",
    "# df_expec.drop(df_expec.var()[df_expec.var()<threshv].index.values) # we want to drop those columns\n",
    "data_expec.drop(\n",
    "    data_expec.var()[data_expec.var() < thresh].index.values, axis=1\n",
    ")  # but we have to pick the right axis (columns, not rows)\n"
   ]
  },
  {
   "cell_type": "code",
   "execution_count": 12,
   "metadata": {},
   "outputs": [],
   "source": [
    "# As specified in solution\n",
    "def check_if_significant(data_in, thresh):\n",
    "    data_out = data_in.drop(data_in.var()[data_in.var() < thresh].index.values, axis=1)\n",
    "    indices = data_in.var()[data_in.var() > thresh].index.values\n",
    "    return data_out, indices"
   ]
  },
  {
   "cell_type": "code",
   "execution_count": 13,
   "metadata": {},
   "outputs": [
    {
     "data": {
      "text/html": [
       "<div>\n",
       "<style scoped>\n",
       "    .dataframe tbody tr th:only-of-type {\n",
       "        vertical-align: middle;\n",
       "    }\n",
       "\n",
       "    .dataframe tbody tr th {\n",
       "        vertical-align: top;\n",
       "    }\n",
       "\n",
       "    .dataframe thead th {\n",
       "        text-align: right;\n",
       "    }\n",
       "</style>\n",
       "<table border=\"1\" class=\"dataframe\">\n",
       "  <thead>\n",
       "    <tr style=\"text-align: right;\">\n",
       "      <th></th>\n",
       "      <th>time</th>\n",
       "      <th>&lt;z&gt;</th>\n",
       "    </tr>\n",
       "  </thead>\n",
       "  <tbody>\n",
       "    <tr>\n",
       "      <th>0</th>\n",
       "      <td>0.0</td>\n",
       "      <td>-2.19632</td>\n",
       "    </tr>\n",
       "    <tr>\n",
       "      <th>1</th>\n",
       "      <td>0.1</td>\n",
       "      <td>-2.19632</td>\n",
       "    </tr>\n",
       "    <tr>\n",
       "      <th>2</th>\n",
       "      <td>0.2</td>\n",
       "      <td>-2.19632</td>\n",
       "    </tr>\n",
       "    <tr>\n",
       "      <th>3</th>\n",
       "      <td>0.3</td>\n",
       "      <td>-2.19632</td>\n",
       "    </tr>\n",
       "    <tr>\n",
       "      <th>4</th>\n",
       "      <td>0.4</td>\n",
       "      <td>-2.19632</td>\n",
       "    </tr>\n",
       "  </tbody>\n",
       "</table>\n",
       "</div>"
      ],
      "text/plain": [
       "   time      <z>\n",
       "0   0.0 -2.19632\n",
       "1   0.1 -2.19632\n",
       "2   0.2 -2.19632\n",
       "3   0.3 -2.19632\n",
       "4   0.4 -2.19632"
      ]
     },
     "metadata": {},
     "output_type": "display_data"
    },
    {
     "name": "stdout",
     "output_type": "stream",
     "text": [
      "['time' '<z>']\n"
     ]
    }
   ],
   "source": [
    "# As specified in solution\n",
    "df_expec, indices = check_if_significant(data_expec, thresh) #flake8-noqa-cell\n",
    "display(df_expec.head())\n",
    "print(indices)"
   ]
  },
  {
   "cell_type": "markdown",
   "metadata": {},
   "source": [
    "### Task 2: Create plots of the relevant data and save as .pdf."
   ]
  },
  {
   "cell_type": "code",
   "execution_count": null,
   "metadata": {},
   "outputs": [],
   "source": [
    "# create plots"
   ]
  },
  {
   "cell_type": "markdown",
   "metadata": {},
   "source": [
    "### Task 3: Read in file `npop.t` and analyze correlations in the data"
   ]
  },
  {
   "cell_type": "code",
   "execution_count": 14,
   "metadata": {},
   "outputs": [
    {
     "data": {
      "text/html": [
       "<div>\n",
       "<style scoped>\n",
       "    .dataframe tbody tr th:only-of-type {\n",
       "        vertical-align: middle;\n",
       "    }\n",
       "\n",
       "    .dataframe tbody tr th {\n",
       "        vertical-align: top;\n",
       "    }\n",
       "\n",
       "    .dataframe thead th {\n",
       "        text-align: right;\n",
       "    }\n",
       "</style>\n",
       "<table border=\"1\" class=\"dataframe\">\n",
       "  <thead>\n",
       "    <tr style=\"text-align: right;\">\n",
       "      <th></th>\n",
       "      <th>time</th>\n",
       "      <th>MO1</th>\n",
       "      <th>MO2</th>\n",
       "      <th>MO3</th>\n",
       "      <th>MO4</th>\n",
       "      <th>MO5</th>\n",
       "      <th>MO6</th>\n",
       "      <th>MO7</th>\n",
       "      <th>MO8</th>\n",
       "      <th>MO9</th>\n",
       "      <th>...</th>\n",
       "      <th>MO29</th>\n",
       "      <th>MO30</th>\n",
       "      <th>MO31</th>\n",
       "      <th>MO32</th>\n",
       "      <th>MO33</th>\n",
       "      <th>MO34</th>\n",
       "      <th>MO35</th>\n",
       "      <th>MO36</th>\n",
       "      <th>MO37</th>\n",
       "      <th>MO38</th>\n",
       "    </tr>\n",
       "  </thead>\n",
       "  <tbody>\n",
       "    <tr>\n",
       "      <th>0</th>\n",
       "      <td>0.0</td>\n",
       "      <td>0.999974</td>\n",
       "      <td>0.999892</td>\n",
       "      <td>0.976819</td>\n",
       "      <td>0.97633</td>\n",
       "      <td>0.000708</td>\n",
       "      <td>0.005711</td>\n",
       "      <td>0.000158</td>\n",
       "      <td>0.00092</td>\n",
       "      <td>0.000158</td>\n",
       "      <td>...</td>\n",
       "      <td>0.000815</td>\n",
       "      <td>0.000514</td>\n",
       "      <td>0.004893</td>\n",
       "      <td>0.001388</td>\n",
       "      <td>0.000469</td>\n",
       "      <td>0.000193</td>\n",
       "      <td>0.000469</td>\n",
       "      <td>0.000193</td>\n",
       "      <td>0.000401</td>\n",
       "      <td>0.000128</td>\n",
       "    </tr>\n",
       "    <tr>\n",
       "      <th>1</th>\n",
       "      <td>0.1</td>\n",
       "      <td>0.999974</td>\n",
       "      <td>0.999892</td>\n",
       "      <td>0.976819</td>\n",
       "      <td>0.97633</td>\n",
       "      <td>0.000708</td>\n",
       "      <td>0.005711</td>\n",
       "      <td>0.000158</td>\n",
       "      <td>0.00092</td>\n",
       "      <td>0.000158</td>\n",
       "      <td>...</td>\n",
       "      <td>0.000815</td>\n",
       "      <td>0.000514</td>\n",
       "      <td>0.004893</td>\n",
       "      <td>0.001388</td>\n",
       "      <td>0.000469</td>\n",
       "      <td>0.000193</td>\n",
       "      <td>0.000469</td>\n",
       "      <td>0.000193</td>\n",
       "      <td>0.000401</td>\n",
       "      <td>0.000128</td>\n",
       "    </tr>\n",
       "    <tr>\n",
       "      <th>2</th>\n",
       "      <td>0.2</td>\n",
       "      <td>0.999974</td>\n",
       "      <td>0.999892</td>\n",
       "      <td>0.976819</td>\n",
       "      <td>0.97633</td>\n",
       "      <td>0.000708</td>\n",
       "      <td>0.005711</td>\n",
       "      <td>0.000158</td>\n",
       "      <td>0.00092</td>\n",
       "      <td>0.000158</td>\n",
       "      <td>...</td>\n",
       "      <td>0.000815</td>\n",
       "      <td>0.000514</td>\n",
       "      <td>0.004893</td>\n",
       "      <td>0.001388</td>\n",
       "      <td>0.000469</td>\n",
       "      <td>0.000193</td>\n",
       "      <td>0.000469</td>\n",
       "      <td>0.000193</td>\n",
       "      <td>0.000401</td>\n",
       "      <td>0.000128</td>\n",
       "    </tr>\n",
       "    <tr>\n",
       "      <th>3</th>\n",
       "      <td>0.3</td>\n",
       "      <td>0.999974</td>\n",
       "      <td>0.999892</td>\n",
       "      <td>0.976819</td>\n",
       "      <td>0.97633</td>\n",
       "      <td>0.000708</td>\n",
       "      <td>0.005711</td>\n",
       "      <td>0.000158</td>\n",
       "      <td>0.00092</td>\n",
       "      <td>0.000158</td>\n",
       "      <td>...</td>\n",
       "      <td>0.000815</td>\n",
       "      <td>0.000514</td>\n",
       "      <td>0.004893</td>\n",
       "      <td>0.001388</td>\n",
       "      <td>0.000469</td>\n",
       "      <td>0.000193</td>\n",
       "      <td>0.000469</td>\n",
       "      <td>0.000193</td>\n",
       "      <td>0.000401</td>\n",
       "      <td>0.000128</td>\n",
       "    </tr>\n",
       "    <tr>\n",
       "      <th>4</th>\n",
       "      <td>0.4</td>\n",
       "      <td>0.999974</td>\n",
       "      <td>0.999892</td>\n",
       "      <td>0.976819</td>\n",
       "      <td>0.97633</td>\n",
       "      <td>0.000708</td>\n",
       "      <td>0.005711</td>\n",
       "      <td>0.000158</td>\n",
       "      <td>0.00092</td>\n",
       "      <td>0.000158</td>\n",
       "      <td>...</td>\n",
       "      <td>0.000815</td>\n",
       "      <td>0.000514</td>\n",
       "      <td>0.004893</td>\n",
       "      <td>0.001388</td>\n",
       "      <td>0.000469</td>\n",
       "      <td>0.000193</td>\n",
       "      <td>0.000469</td>\n",
       "      <td>0.000193</td>\n",
       "      <td>0.000401</td>\n",
       "      <td>0.000128</td>\n",
       "    </tr>\n",
       "  </tbody>\n",
       "</table>\n",
       "<p>5 rows × 39 columns</p>\n",
       "</div>"
      ],
      "text/plain": [
       "   time       MO1       MO2       MO3      MO4       MO5       MO6       MO7  \\\n",
       "0   0.0  0.999974  0.999892  0.976819  0.97633  0.000708  0.005711  0.000158   \n",
       "1   0.1  0.999974  0.999892  0.976819  0.97633  0.000708  0.005711  0.000158   \n",
       "2   0.2  0.999974  0.999892  0.976819  0.97633  0.000708  0.005711  0.000158   \n",
       "3   0.3  0.999974  0.999892  0.976819  0.97633  0.000708  0.005711  0.000158   \n",
       "4   0.4  0.999974  0.999892  0.976819  0.97633  0.000708  0.005711  0.000158   \n",
       "\n",
       "       MO8       MO9  ...      MO29      MO30      MO31      MO32      MO33  \\\n",
       "0  0.00092  0.000158  ...  0.000815  0.000514  0.004893  0.001388  0.000469   \n",
       "1  0.00092  0.000158  ...  0.000815  0.000514  0.004893  0.001388  0.000469   \n",
       "2  0.00092  0.000158  ...  0.000815  0.000514  0.004893  0.001388  0.000469   \n",
       "3  0.00092  0.000158  ...  0.000815  0.000514  0.004893  0.001388  0.000469   \n",
       "4  0.00092  0.000158  ...  0.000815  0.000514  0.004893  0.001388  0.000469   \n",
       "\n",
       "       MO34      MO35      MO36      MO37      MO38  \n",
       "0  0.000193  0.000469  0.000193  0.000401  0.000128  \n",
       "1  0.000193  0.000469  0.000193  0.000401  0.000128  \n",
       "2  0.000193  0.000469  0.000193  0.000401  0.000128  \n",
       "3  0.000193  0.000469  0.000193  0.000401  0.000128  \n",
       "4  0.000193  0.000469  0.000193  0.000401  0.000128  \n",
       "\n",
       "[5 rows x 39 columns]"
      ]
     },
     "execution_count": 14,
     "metadata": {},
     "output_type": "execute_result"
    }
   ],
   "source": [
    "# read in npop.t\n",
    "data_npop = read_pandas(data_file_path, \"npop.t\")\n",
    "data_npop.head()"
   ]
  },
  {
   "cell_type": "code",
   "execution_count": 15,
   "metadata": {},
   "outputs": [
    {
     "data": {
      "text/html": [
       "<div>\n",
       "<style scoped>\n",
       "    .dataframe tbody tr th:only-of-type {\n",
       "        vertical-align: middle;\n",
       "    }\n",
       "\n",
       "    .dataframe tbody tr th {\n",
       "        vertical-align: top;\n",
       "    }\n",
       "\n",
       "    .dataframe thead th {\n",
       "        text-align: right;\n",
       "    }\n",
       "</style>\n",
       "<table border=\"1\" class=\"dataframe\">\n",
       "  <thead>\n",
       "    <tr style=\"text-align: right;\">\n",
       "      <th></th>\n",
       "      <th>time</th>\n",
       "      <th>MO4</th>\n",
       "      <th>MO6</th>\n",
       "    </tr>\n",
       "  </thead>\n",
       "  <tbody>\n",
       "    <tr>\n",
       "      <th>0</th>\n",
       "      <td>0.0</td>\n",
       "      <td>0.97633</td>\n",
       "      <td>0.005711</td>\n",
       "    </tr>\n",
       "    <tr>\n",
       "      <th>1</th>\n",
       "      <td>0.1</td>\n",
       "      <td>0.97633</td>\n",
       "      <td>0.005711</td>\n",
       "    </tr>\n",
       "    <tr>\n",
       "      <th>2</th>\n",
       "      <td>0.2</td>\n",
       "      <td>0.97633</td>\n",
       "      <td>0.005711</td>\n",
       "    </tr>\n",
       "    <tr>\n",
       "      <th>3</th>\n",
       "      <td>0.3</td>\n",
       "      <td>0.97633</td>\n",
       "      <td>0.005711</td>\n",
       "    </tr>\n",
       "    <tr>\n",
       "      <th>4</th>\n",
       "      <td>0.4</td>\n",
       "      <td>0.97633</td>\n",
       "      <td>0.005711</td>\n",
       "    </tr>\n",
       "  </tbody>\n",
       "</table>\n",
       "</div>"
      ],
      "text/plain": [
       "   time      MO4       MO6\n",
       "0   0.0  0.97633  0.005711\n",
       "1   0.1  0.97633  0.005711\n",
       "2   0.2  0.97633  0.005711\n",
       "3   0.3  0.97633  0.005711\n",
       "4   0.4  0.97633  0.005711"
      ]
     },
     "metadata": {},
     "output_type": "display_data"
    },
    {
     "name": "stdout",
     "output_type": "stream",
     "text": [
      "['time' 'MO4' 'MO6']\n"
     ]
    }
   ],
   "source": [
    "# discard all columns with variance below a set threshold - we can consider them as constant\n",
    "# flake8-noqa-cell\n",
    "# discard all columns with variance below a set threshold - we can consider them as constant\n",
    "df_npop, indices_npop = check_if_significant(data_npop, thresh)\n",
    "display(df_npop.head())\n",
    "print(indices_npop)"
   ]
  },
  {
   "cell_type": "markdown",
   "metadata": {},
   "source": [
    "Plot the remaining columns. Seaborn prefers \"long format\" (one column for all measurement values, one column to indicate the type) as input, whereas the cvs is in \"wide format\" (one column per measurement type)."
   ]
  },
  {
   "cell_type": "code",
   "execution_count": 16,
   "metadata": {},
   "outputs": [
    {
     "name": "stderr",
     "output_type": "stream",
     "text": [
      "c:\\Users\\Farrokh Vahidi\\.conda\\envs\\course24\\Lib\\site-packages\\seaborn\\_base.py:949: FutureWarning: When grouping with a length-1 list-like, you will need to pass a length-1 tuple to get_group in a future version of pandas. Pass `(name,)` instead of `name` to silence this warning.\n",
      "  data_subset = grouped_data.get_group(pd_key)\n",
      "c:\\Users\\Farrokh Vahidi\\.conda\\envs\\course24\\Lib\\site-packages\\seaborn\\_base.py:949: FutureWarning: When grouping with a length-1 list-like, you will need to pass a length-1 tuple to get_group in a future version of pandas. Pass `(name,)` instead of `name` to silence this warning.\n",
      "  data_subset = grouped_data.get_group(pd_key)\n"
     ]
    },
    {
     "data": {
      "image/png": "[encoded data removed]",
      "text/plain": [
       "<Figure size 640x480 with 1 Axes>"
      ]
     },
     "metadata": {},
     "output_type": "display_data"
    }
   ],
   "source": [
    "# plot ideally with seaborn\n",
    "sn.lineplot(x='time', y='value', hue='variable',\n",
    "            data=pd.melt(df_npop, ['time']))\n",
    "# Unpivot a DataFrame from wide to long format, optionally leaving identifiers set.\n",
    "plt.show()"
   ]
  },
  {
   "cell_type": "markdown",
   "metadata": {},
   "source": [
    "## Quantify the pairwise correlation in the data\n",
    "\n",
    "- negative correlation: y values decrease for increasing x - large values of one feature correspond to small values of the other feature\n",
    "- weak or no correlation: no trend observable, association between two features is hardly observable\n",
    "- positive correlation: y values increase for decreasing x - small values of one feature correspond to small values of the other feature\n",
    "\n",
    "Remember that correlation does not indicate causation - the reason that two features are associated can lie in their dependence on same factors.\n",
    "\n",
    "Correlate the value pairs using Pearson's $r$. Pearson's $r$ is a measure of the linear relationship between features:\n",
    "\n",
    "$r = \\frac{\\sum_i(x_i − \\bar{x})(y_i − \\bar{y})}{\\sqrt{\\sum_i(x_i − \\bar{x})^2 \\sum_i(y_i − \\bar{y})^2}}$\n",
    "\n",
    "Here, $\\bar{x}$ and $\\bar{y}$ indicate mean values. $i$ runs over the whole data set. For a positive correlation, $r$ is positive, and negative for a negative correlation, with minimum and maximum values of -1 and 1, indicating a perfectly linear relationship. Weakly or not correlated features are characterized by $r$-values close to 0.\n",
    "\n",
    "Other measures of correlation that can be used are Spearman's rank (value pairs follow monotonic function) or Kendall's $\\tau$ (measures ordinal association), but they do not apply here. You can also define measures yourself."
   ]
  },
  {
   "cell_type": "code",
   "execution_count": 17,
   "metadata": {},
   "outputs": [
    {
     "name": "stdout",
     "output_type": "stream",
     "text": [
      "Correlation Matrix\n",
      "          time       MO4       MO6\n",
      "time  1.000000 -0.740092  0.753839\n",
      "MO4  -0.740092  1.000000 -0.964051\n",
      "MO6   0.753839 -0.964051  1.000000\n"
     ]
    }
   ],
   "source": [
    "# print the correlation matrix\n",
    "print(\"Correlation Matrix\")\n",
    "print(df_npop.corr())"
   ]
  },
  {
   "cell_type": "markdown",
   "metadata": {},
   "source": [
    "The diagonal values tell us that each value is perfectly correlated with itself. We are not interested in the diagonal values and also not in the correlation with time. We also need to get rid of redundant entries. Finally, we need to find the value pairs that exhibit the highest linear correlation. We still want to know if it is positive or negative correlation, so we cannot get rid of the sign."
   ]
  },
  {
   "cell_type": "code",
   "execution_count": 18,
   "metadata": {},
   "outputs": [
    {
     "name": "stdout",
     "output_type": "stream",
     "text": [
      "Index(['MO4', 'MO6'], dtype='object')\n",
      "{('MO6', 'MO6'), ('MO6', 'MO4'), ('MO4', 'MO4')}\n"
     ]
    },
    {
     "data": {
      "text/plain": [
       "MO4  MO6   -0.964051\n",
       "dtype: float64"
      ]
     },
     "metadata": {},
     "output_type": "display_data"
    }
   ],
   "source": [
    "# flake8-noqa-cell\n",
    "# get rid of time column, lower triangular and diagonal entries of the correlation matrix\n",
    "# sort the remaing values according to their absolute value, but keep the sign\n",
    "def get_correlation_measure(df):\n",
    "    drop_values = set() # an unordered collection of items\n",
    "    cols = df.columns # get the column labels\n",
    "    print(cols)\n",
    "    for i in range(0, df.shape[1]):\n",
    "        for j in range(0, i+1): # get rid of all diagonal entries and the lower triangular\n",
    "            drop_values.add((cols[i], cols[j]))\n",
    "    print(drop_values)\n",
    "    return drop_values\n",
    "\n",
    "\n",
    "df_npop_short = df_npop.drop([\"time\"], axis=1) # get rid of time column\n",
    "drop_vals = get_correlation_measure(df_npop_short) # get rid of lower triangular and diagonal entries\n",
    "corr2 = df_npop_short.corr().unstack() # pivot the correlation matrix\n",
    "# sort by absolute values but keep sign\n",
    "corr2 = corr2.drop(labels=drop_vals).sort_values(ascending=False, key=lambda col: col.abs()) \n",
    "display(corr2)"
   ]
  },
  {
   "cell_type": "markdown",
   "metadata": {},
   "source": [
    "Note that the entries in the left column are not repeated if they do not change from the row above (so the fourth feature pair is MO3 and MO6)."
   ]
  },
  {
   "cell_type": "markdown",
   "metadata": {},
   "source": [
    "### Task 4: Print the resulting data to a file"
   ]
  },
  {
   "cell_type": "code",
   "execution_count": null,
   "metadata": {},
   "outputs": [],
   "source": [
    "# write to file"
   ]
  },
  {
   "cell_type": "markdown",
   "metadata": {},
   "source": [
    "### Task 5: Calculate the Euclidean distance (L2 norm) for the vectors in `table.dat`\n",
    "\n",
    "\n",
    "The Euclidean distance measures the distance between to objects that are not points:\n",
    "\n",
    "$d(p,q) = \\sqrt{\\left(p-q\\right)^2}$\n",
    "\n",
    "In this case, consider each of the columns in table.dat as a vector in Euclidean space, where column $r(x)$ and column $v(x)$ denote a pair of vectors that should be compared, as well as $r(y)$ and $v(y)$, and r(z) and v(z).\n",
    "\n",
    "(Background: These are dipole moment components in different gauges, the length and velocity gauge.)"
   ]
  },
  {
   "cell_type": "code",
   "execution_count": 19,
   "metadata": {},
   "outputs": [],
   "source": [
    "# read in table.dat - I suggest reading it as a numpy array\n",
    "data_table = read_numpy(data_file_path, \"table.dat\")\n",
    "data_table[0]\n",
    "# replace the NaNs by zero\n",
    "data_table = np.nan_to_num(data_table)"
   ]
  },
  {
   "cell_type": "markdown",
   "metadata": {},
   "source": [
    "Now calculate how different the vectors in column 2 are from column 3, column 4 from column 5, and column 6 from column 7."
   ]
  },
  {
   "cell_type": "code",
   "execution_count": 20,
   "metadata": {},
   "outputs": [],
   "source": [
    "# calculate the Euclidean distance\n",
    "def euclidean_distance(list_ref, list_comp, vectors):\n",
    "    distances = np.zeros(len(list_ref))\n",
    "    for i in range(len(list_ref)):\n",
    "        distances[i] = np.linalg.norm(vectors[list_comp[i]] - vectors[list_ref[i]])\n",
    "    return distances"
   ]
  },
  {
   "cell_type": "code",
   "execution_count": 21,
   "metadata": {},
   "outputs": [
    {
     "name": "stdout",
     "output_type": "stream",
     "text": [
      "[2.37927436 1.00427634 1.91043469]\n"
     ]
    },
    {
     "data": {
      "image/png": "[encoded data removed]",
      "text/plain": [
       "<Figure size 640x480 with 1 Axes>"
      ]
     },
     "metadata": {},
     "output_type": "display_data"
    }
   ],
   "source": [
    "# plot the result and save to a .pdf\n",
    "out_dist = euclidean_distance([2, 4, 6], [3, 5, 7], data_table)\n",
    "print(out_dist)\n",
    "x = range(0, len(out_dist))\n",
    "plt.bar(x, out_dist)\n",
    "plt.xticks(x, ('x', 'y', 'z'))\n",
    "plt.show()"
   ]
  },
  {
   "cell_type": "code",
   "execution_count": null,
   "metadata": {},
   "outputs": [],
   "source": [
    "# print the result to a file"
   ]
  },
  {
   "cell_type": "markdown",
   "metadata": {},
   "source": [
    "# Numerical analysis\n",
    "\n",
    "Analyze the data using autocorrelation functions and discrete Fourier transforms. Plot your results."
   ]
  },
  {
   "cell_type": "code",
   "execution_count": null,
   "metadata": {},
   "outputs": [],
   "source": [
    "# define some global functions"
   ]
  },
  {
   "cell_type": "markdown",
   "metadata": {},
   "source": [
    "### Task 1: Read in `efield.t` and Fourier-transform relevant columns"
   ]
  },
  {
   "cell_type": "code",
   "execution_count": null,
   "metadata": {},
   "outputs": [],
   "source": [
    "# read and plot efield.t\n",
    "time, x, y, z = np.genfromtxt(\"../data/efield.t\", unpack=True, skip_header=1)"
   ]
  },
  {
   "cell_type": "code",
   "execution_count": null,
   "metadata": {},
   "outputs": [],
   "source": [
    "plt.plot(time, x, label=\"x\")\n",
    "plt.plot(time, y, label=\"y\")\n",
    "plt.plot(time, z, label=\"z\")\n",
    "plt.legend()\n",
    "plt.xlabel(\"time\")"
   ]
  },
  {
   "cell_type": "markdown",
   "metadata": {},
   "source": [
    "Here we are interested in column 2 since the others are constant."
   ]
  },
  {
   "cell_type": "code",
   "execution_count": null,
   "metadata": {},
   "outputs": [],
   "source": [
    "# discard the columns with variance below threshold - these are considered constant"
   ]
  },
  {
   "cell_type": "code",
   "execution_count": null,
   "metadata": {},
   "outputs": [],
   "source": [
    "# discrete Fourier transform of the remaining column: You only need the real frequencies\n",
    "y_ft = np.fft.rfft(y).real\n",
    "freq = np.fft.rfftfreq(len(y), d=0.1)"
   ]
  },
  {
   "cell_type": "markdown",
   "metadata": {},
   "source": [
    "### Task 2: Generate a plot of your results to be saved as pdf."
   ]
  },
  {
   "cell_type": "code",
   "execution_count": null,
   "metadata": {},
   "outputs": [],
   "source": [
    "# plot your results\n",
    "plt.plot(freq, y_ft)\n",
    "plt.xlabel(\"frequency\")\n",
    "plt.title(\"Fourier transform of y component of efield.t\")\n",
    "plt.savefig(\"../plots/efield_y_ft.pdf\")"
   ]
  },
  {
   "cell_type": "markdown",
   "metadata": {},
   "source": [
    "### Task 3: Calculate the autocorrelation function from nstate_i.t\n",
    "The autocorrelation function measures how correlated subsequent vectors are with an initial vector; ie. \n",
    "\n",
    "$\\Psi_{corr} = \\langle \\Psi(t=0) | \\Psi(t) \\rangle = \\int_0^{tfin} \\Psi(0)^* \\Psi(t) dt$\n",
    "\n",
    "Since we are in a numerical representation, the integral can be replaced with a sum; and the given vectors are already normalized."
   ]
  },
  {
   "cell_type": "code",
   "execution_count": null,
   "metadata": {},
   "outputs": [],
   "source": [
    "# read in as numpy array\n",
    "nstate = np.genfromtxt(\"../data/nstate_i.t\", unpack=True, skip_header=1)"
   ]
  },
  {
   "cell_type": "code",
   "execution_count": null,
   "metadata": {},
   "outputs": [],
   "source": [
    "# store the time column (column 0) in a vector and drop from array\n",
    "time = nstate[0]\n",
    "nstate = np.delete(nstate, 0, 0)"
   ]
  },
  {
   "cell_type": "code",
   "execution_count": null,
   "metadata": {},
   "outputs": [],
   "source": [
    "# correct the data representation: this is in fact a complex matrix\n",
    "# the real part of each matrix column is contained in numpy array column 0, 2, 4, 6, ...\n",
    "# the imaginary part of each matrix column is contained in numpy array column 1, 3, 5, 7, ...\n",
    "# convert the array that was read as dtype=float into a dtype=complex array\n",
    "\n",
    "n_columns = nstate.shape[0] // 2\n",
    "n_rows = nstate.shape[1]\n",
    "nstate_new = np.zeros([n_columns, n_rows], dtype=complex)\n",
    "\n",
    "for i in range(0, n_columns):\n",
    "    nstate_new[i] = nstate[2 * i] + 1j * nstate[2 * i + 1]"
   ]
  },
  {
   "cell_type": "code",
   "execution_count": null,
   "metadata": {},
   "outputs": [],
   "source": [
    "# for the autocorrelation function, we want the overlap between the first vector at time 0 and all\n",
    "# subsequent vectors at later times - the sum of the product of initial and subsequent vectors for each time step\n",
    "\n",
    "n = nstate_new.shape[1]\n",
    "autocorr = np.zeros(n, dtype=complex)\n",
    "for t in range(n):\n",
    "    autocorr[t] = np.sum(np.conj(nstate_new[:, 0]) * nstate_new[:, t])"
   ]
  },
  {
   "cell_type": "markdown",
   "metadata": {},
   "source": [
    "### Task 4: Generate a plot of your results to be saved as pdf."
   ]
  },
  {
   "cell_type": "code",
   "execution_count": null,
   "metadata": {},
   "outputs": [],
   "source": [
    "# plot the autocorrelation function - real, imaginary and absolute part\n",
    "plt.plot(time, autocorr.real, label=\"real\")\n",
    "plt.plot(time, autocorr.imag, label=\"imaginary\")\n",
    "plt.plot(time, abs(autocorr), label=\"absolute\")\n",
    "plt.legend()\n",
    "plt.xlabel(\"time\")\n",
    "plt.title(\"Autocorrelation\")"
   ]
  },
  {
   "cell_type": "markdown",
   "metadata": {},
   "source": [
    "### Task 5: Discrete Fourier transform of the autocorrelation function"
   ]
  },
  {
   "cell_type": "code",
   "execution_count": null,
   "metadata": {},
   "outputs": [],
   "source": [
    "# discrete Fourier-transform the autocorrelation function - now we need all frequency components\n",
    "# also the negative ones\n",
    "\n",
    "autocorr_ft = np.fft.fft(autocorr)\n",
    "freq = np.fft.fftfreq(len(autocorr), d=0.1)"
   ]
  },
  {
   "cell_type": "markdown",
   "metadata": {},
   "source": [
    "### Task 6: Generate a plot of your results to be saved as pdf."
   ]
  },
  {
   "cell_type": "code",
   "execution_count": null,
   "metadata": {},
   "outputs": [],
   "source": [
    "# plot the power spectrum (abs**2)\n",
    "\n",
    "plt.plot(freq, abs(autocorr_ft) ** 2, \".-\")\n",
    "plt.yscale(\"log\")\n",
    "plt.xlabel(\"frequency\")\n",
    "plt.title(\"Power spectrum of autocorrelation function\")\n",
    "plt.grid()\n",
    "plt.savefig(\"../plots/autocorr_ft.pdf\")"
   ]
  }
 ],
 "metadata": {
  "kernelspec": {
   "display_name": "Python 3",
   "language": "python",
   "name": "python3"
  },
  "language_info": {
   "codemirror_mode": {
    "name": "ipython",
    "version": 3
   },
   "file_extension": ".py",
   "mimetype": "text/x-python",
   "name": "python",
   "nbconvert_exporter": "python",
   "pygments_lexer": "ipython3",
   "version": "3.11.7"
  }
 },
 "nbformat": 4,
 "nbformat_minor": 4
}
